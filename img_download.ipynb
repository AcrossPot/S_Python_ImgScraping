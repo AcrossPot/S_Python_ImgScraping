{
 "cells": [
  {
   "cell_type": "code",
   "execution_count": null,
   "id": "29d8c661",
   "metadata": {},
   "outputs": [
    {
     "name": "stdout",
     "output_type": "stream",
     "text": [
      "Requirement already satisfied: icrawler in c:\\users\\webengineer\\anaconda3\\envs\\myspace202412\\lib\\site-packages (0.6.10)\n",
      "Requirement already satisfied: beautifulsoup4 in c:\\users\\webengineer\\anaconda3\\envs\\myspace202412\\lib\\site-packages (from icrawler) (4.13.3)\n",
      "Requirement already satisfied: bs4 in c:\\users\\webengineer\\anaconda3\\envs\\myspace202412\\lib\\site-packages (from icrawler) (0.0.2)\n",
      "Requirement already satisfied: lxml in c:\\users\\webengineer\\anaconda3\\envs\\myspace202412\\lib\\site-packages (from icrawler) (5.3.2)\n",
      "Requirement already satisfied: pillow in c:\\users\\webengineer\\anaconda3\\envs\\myspace202412\\lib\\site-packages (from icrawler) (11.1.0)\n",
      "Requirement already satisfied: pyyaml in c:\\users\\webengineer\\anaconda3\\envs\\myspace202412\\lib\\site-packages (from icrawler) (6.0.2)\n",
      "Requirement already satisfied: requests in c:\\users\\webengineer\\anaconda3\\envs\\myspace202412\\lib\\site-packages (from icrawler) (2.32.3)\n",
      "Requirement already satisfied: six in c:\\users\\webengineer\\anaconda3\\envs\\myspace202412\\lib\\site-packages (from icrawler) (1.17.0)\n",
      "Requirement already satisfied: soupsieve>1.2 in c:\\users\\webengineer\\anaconda3\\envs\\myspace202412\\lib\\site-packages (from beautifulsoup4->icrawler) (2.6)\n",
      "Requirement already satisfied: typing-extensions>=4.0.0 in c:\\users\\webengineer\\anaconda3\\envs\\myspace202412\\lib\\site-packages (from beautifulsoup4->icrawler) (4.12.2)\n",
      "Requirement already satisfied: charset-normalizer<4,>=2 in c:\\users\\webengineer\\anaconda3\\envs\\myspace202412\\lib\\site-packages (from requests->icrawler) (3.4.1)\n",
      "Requirement already satisfied: idna<4,>=2.5 in c:\\users\\webengineer\\anaconda3\\envs\\myspace202412\\lib\\site-packages (from requests->icrawler) (3.10)\n",
      "Requirement already satisfied: urllib3<3,>=1.21.1 in c:\\users\\webengineer\\anaconda3\\envs\\myspace202412\\lib\\site-packages (from requests->icrawler) (2.4.0)\n",
      "Requirement already satisfied: certifi>=2017.4.17 in c:\\users\\webengineer\\anaconda3\\envs\\myspace202412\\lib\\site-packages (from requests->icrawler) (2025.1.31)\n"
     ]
    }
   ],
   "source": [
    "# Python_画像スクレイピング\n",
    "#必要な機能のインストール\n",
    "!pip install icrawler"
   ]
  },
  {
   "cell_type": "code",
   "execution_count": null,
   "id": "4c01f1a4",
   "metadata": {},
   "outputs": [],
   "source": [
    "#必要なライブラリのインポート\n",
    "from icrawler.builtin import BingImageCrawler"
   ]
  },
  {
   "cell_type": "code",
   "execution_count": null,
   "id": "4a2cb3bf",
   "metadata": {},
   "outputs": [
    {
     "ename": "NameError",
     "evalue": "name 'BingImageCrawler' is not defined",
     "output_type": "error",
     "traceback": [
      "\u001b[31m---------------------------------------------------------------------------\u001b[39m",
      "\u001b[31mNameError\u001b[39m                                 Traceback (most recent call last)",
      "\u001b[36mCell\u001b[39m\u001b[36m \u001b[39m\u001b[32mIn[2]\u001b[39m\u001b[32m, line 2\u001b[39m\n\u001b[32m      1\u001b[39m \u001b[38;5;66;03m#画像のダウンロード\u001b[39;00m\n\u001b[32m----> \u001b[39m\u001b[32m2\u001b[39m bing_crawler = \u001b[43mBingImageCrawler\u001b[49m(downloader_threads=\u001b[32m4\u001b[39m,\n\u001b[32m      3\u001b[39m                                 storage={\u001b[33m'\u001b[39m\u001b[33mroot_dir\u001b[39m\u001b[33m'\u001b[39m: \u001b[33m'\u001b[39m\u001b[33mdata\u001b[39m\u001b[33m'\u001b[39m})\n\u001b[32m      4\u001b[39m bing_crawler.crawl(keyword=\u001b[33m'\u001b[39m\u001b[33mfatcat\u001b[39m\u001b[33m'\u001b[39m, filters=\u001b[38;5;28;01mNone\u001b[39;00m, offset=\u001b[32m0\u001b[39m, max_num=\u001b[32m100\u001b[39m)\n",
      "\u001b[31mNameError\u001b[39m: name 'BingImageCrawler' is not defined"
     ]
    }
   ],
   "source": [
    "#画像のダウンロード　Keywordに対象文字を打ち込む\n",
    "bing_crawler = BingImageCrawler(downloader_threads=4,\n",
    "                                storage={'root_dir': 'data'})\n",
    "bing_crawler.crawl(keyword='fatcat', filters=None, offset=0, max_num=100)\n"
   ]
  }
 ],
 "metadata": {
  "kernelspec": {
   "display_name": "mySpace202412",
   "language": "python",
   "name": "python3"
  },
  "language_info": {
   "codemirror_mode": {
    "name": "ipython",
    "version": 3
   },
   "file_extension": ".py",
   "mimetype": "text/x-python",
   "name": "python",
   "nbconvert_exporter": "python",
   "pygments_lexer": "ipython3",
   "version": "3.11.11"
  }
 },
 "nbformat": 4,
 "nbformat_minor": 5
}
